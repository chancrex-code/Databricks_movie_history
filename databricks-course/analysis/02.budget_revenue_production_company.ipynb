{
 "cells": [
  {
   "cell_type": "code",
   "execution_count": 0,
   "metadata": {
    "application/vnd.databricks.v1+cell": {
     "cellMetadata": {
      "byteLimit": 2048000,
      "rowLimit": 10000
     },
     "inputWidgets": {},
     "nuid": "8403749e-13e5-498f-8e7a-f9ff75ada57e",
     "showTitle": false,
     "tableResultSettingsMap": {},
     "title": ""
    }
   },
   "outputs": [],
   "source": [
    "use movie_gold;"
   ]
  },
  {
   "cell_type": "code",
   "execution_count": 0,
   "metadata": {
    "application/vnd.databricks.v1+cell": {
     "cellMetadata": {
      "byteLimit": 2048000,
      "rowLimit": 10000
     },
     "inputWidgets": {},
     "nuid": "49a217f8-9a70-4c6f-ba59-c930c701a5ed",
     "showTitle": false,
     "tableResultSettingsMap": {},
     "title": ""
    }
   },
   "outputs": [],
   "source": [
    "SELECT company_name,\n",
    "      COUNT(company_name) AS total_company_name,\n",
    "      SUM(budget) AS total_budget,\n",
    "      CAST(AVG(budget) AS DECIMAL(18,2)) AS avg_budget,\n",
    "      SUM(revenue) as total_revenue,\n",
    "      CAST(AVG(revenue) AS DECIMAL(18,2)) AS avg_revenue\n",
    "FROM results_movie GROUP BY company_name\n",
    "order by  total_revenue desc\n"
   ]
  },
  {
   "cell_type": "code",
   "execution_count": 0,
   "metadata": {
    "application/vnd.databricks.v1+cell": {
     "cellMetadata": {
      "byteLimit": 2048000,
      "rowLimit": 10000
     },
     "inputWidgets": {},
     "nuid": "f6d759ed-7938-4b12-af41-8a58a671cd56",
     "showTitle": false,
     "tableResultSettingsMap": {},
     "title": ""
    }
   },
   "outputs": [],
   "source": [
    "SELECT company_name,\n",
    "      COUNT(company_name) AS total_company_name,\n",
    "      SUM(budget) AS total_budget,\n",
    "      CAST(AVG(budget) AS DECIMAL(18,2)) AS avg_budget,\n",
    "      SUM(revenue) as total_revenue,\n",
    "      CAST(AVG(revenue) AS DECIMAL(18,2)) AS avg_revenue\n",
    "FROM results_movie\n",
    "WHERE year_release_date between 2010 AND 2015\n",
    "GROUP BY company_name\n",
    "order by  total_revenue desc\n"
   ]
  },
  {
   "cell_type": "code",
   "execution_count": 0,
   "metadata": {
    "application/vnd.databricks.v1+cell": {
     "cellMetadata": {},
     "inputWidgets": {},
     "nuid": "21233d3f-05ea-4b0e-b2f3-e7243a85ff80",
     "showTitle": false,
     "tableResultSettingsMap": {},
     "title": ""
    }
   },
   "outputs": [],
   "source": []
  }
 ],
 "metadata": {
  "application/vnd.databricks.v1+notebook": {
   "computePreferences": null,
   "dashboards": [],
   "environmentMetadata": {
    "base_environment": "",
    "environment_version": "2"
   },
   "inputWidgetPreferences": null,
   "language": "sql",
   "notebookMetadata": {
    "pythonIndentUnit": 4
   },
   "notebookName": "02.budget_revenue_production_company",
   "widgets": {}
  },
  "language_info": {
   "name": "sql"
  }
 },
 "nbformat": 4,
 "nbformat_minor": 0
}
