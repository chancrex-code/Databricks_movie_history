{
 "cells": [
  {
   "cell_type": "markdown",
   "metadata": {
    "application/vnd.databricks.v1+cell": {
     "cellMetadata": {
      "byteLimit": 2048000,
      "rowLimit": 10000
     },
     "inputWidgets": {},
     "nuid": "aa03678a-40a1-42d7-8f7b-279db56ed156",
     "showTitle": false,
     "tableResultSettingsMap": {},
     "title": ""
    }
   },
   "source": [
    "### Crear la Tabla results_movie en la capa \"gold\""
   ]
  },
  {
   "cell_type": "code",
   "execution_count": 0,
   "metadata": {
    "application/vnd.databricks.v1+cell": {
     "cellMetadata": {
      "byteLimit": 2048000,
      "rowLimit": 10000
     },
     "inputWidgets": {},
     "nuid": "9f2ea1a0-2582-4033-988e-1bd6c1ab3da3",
     "showTitle": false,
     "tableResultSettingsMap": {},
     "title": ""
    }
   },
   "outputs": [],
   "source": [
    "dbutils.widgets.text(\"p_file_date\",\"2024-12-23\")\n",
    "v_file_date = dbutils.widgets.get(\"p_file_date\")"
   ]
  },
  {
   "cell_type": "code",
   "execution_count": 0,
   "metadata": {
    "application/vnd.databricks.v1+cell": {
     "cellMetadata": {
      "byteLimit": 2048000,
      "rowLimit": 10000
     },
     "inputWidgets": {},
     "nuid": "6fceccfb-9b07-4981-b86b-6a03bf5548f9",
     "showTitle": false,
     "tableResultSettingsMap": {},
     "title": ""
    }
   },
   "outputs": [],
   "source": [
    "spark.sql(\"\"\"\n",
    "          CREATE TABLE IF NOT EXISTS movie_gold.result_movie\n",
    "          (\n",
    "              year_release_date int,\n",
    "              country_name STRING,\n",
    "              company_name STRING,\n",
    "              budget FLOAT,\n",
    "              revenue FLOAT,\n",
    "              movie_id INT,\n",
    "              country_id int,\n",
    "              company_id int,\n",
    "              created_date DATE,\n",
    "              updated_date DATE\n",
    "          )\n",
    "          USING DELTA\n",
    "          \"\"\")"
   ]
  },
  {
   "cell_type": "code",
   "execution_count": 0,
   "metadata": {
    "application/vnd.databricks.v1+cell": {
     "cellMetadata": {
      "byteLimit": 2048000,
      "rowLimit": 10000
     },
     "inputWidgets": {},
     "nuid": "30ff13f1-9e2d-4a58-a796-b1065a0ffb86",
     "showTitle": false,
     "tableResultSettingsMap": {},
     "title": ""
    }
   },
   "outputs": [],
   "source": [
    "spark.sql(f\"\"\"\n",
    "            CREATE OR REPLACE TEMP VIEW v_results_movie\n",
    "            AS \n",
    "            SELECT M.year_release_date, C.country_name, PCO.company_name,\n",
    "                    M.budget, M.revenue, M.movie_id, C.country_id, PCO.company_id\n",
    "            FROM movie_silver.movies M\n",
    "            INNER JOIN movie_silver.production_country PC ON M.movie_id = PC.movie_id\n",
    "            INNER JOIN movie_silver.country C ON C.country_id = PC.country_id\n",
    "            INNER JOIN movie_silver.movie_company MC ON M.movie_id = MC.movie_id\n",
    "            INNER JOIN movie_silver.production_company PCO ON MC.company_id = PCO.company_id\n",
    "            WHERE M.file_date = '{v_file_date}'\n",
    "          \"\"\")"
   ]
  },
  {
   "cell_type": "code",
   "execution_count": 0,
   "metadata": {
    "application/vnd.databricks.v1+cell": {
     "cellMetadata": {
      "byteLimit": 2048000,
      "implicitDf": true,
      "rowLimit": 10000
     },
     "inputWidgets": {},
     "nuid": "fb374fb9-2b1a-45cc-9b17-b4fc28a38d50",
     "showTitle": false,
     "tableResultSettingsMap": {},
     "title": ""
    }
   },
   "outputs": [],
   "source": [
    "%sql\n",
    "SELECT * from v_results_movie"
   ]
  },
  {
   "cell_type": "code",
   "execution_count": 0,
   "metadata": {
    "application/vnd.databricks.v1+cell": {
     "cellMetadata": {
      "byteLimit": 2048000,
      "implicitDf": true,
      "rowLimit": 10000
     },
     "inputWidgets": {},
     "nuid": "7ef0b9ff-7006-49fd-8f7b-2eb660779043",
     "showTitle": false,
     "tableResultSettingsMap": {},
     "title": ""
    }
   },
   "outputs": [],
   "source": [
    "spark.sql(\"\"\"\n",
    "            MERGE INTO movie_gold.result_movie tgt\n",
    "            USING v_results_movie src\n",
    "            ON tgt.movie_id = src.movie_id AND tgt.country_id = src.country_id AND tgt.company_id = src.company_id\n",
    "            WHEN MATCHED THEN\n",
    "            UPDATE SET\n",
    "                tgt.year_release_date = src.year_release_date,\n",
    "                tgt.country_name = src.country_name,\n",
    "                tgt.company_name = src.company_name,\n",
    "                tgt.budget = src.budget,\n",
    "                tgt.revenue = src.revenue,\n",
    "                tgt.updated_date = current_timestamp\n",
    "            WHEN NOT MATCHED THEN\n",
    "            INSERT (year_release_date, country_name, company_name, budget, revenue,\n",
    "                        movie_id, country_id, company_id, created_date)\n",
    "            VALUES (year_release_date, country_name, company_name, budget, revenue,\n",
    "                        movie_id, country_id, company_id, current_timestamp)\n",
    "\"\"\")"
   ]
  },
  {
   "cell_type": "code",
   "execution_count": 0,
   "metadata": {
    "application/vnd.databricks.v1+cell": {
     "cellMetadata": {
      "byteLimit": 2048000,
      "implicitDf": true,
      "rowLimit": 10000
     },
     "inputWidgets": {},
     "nuid": "3a566de1-da40-4342-86d9-d1fb419de19c",
     "showTitle": false,
     "tableResultSettingsMap": {},
     "title": ""
    }
   },
   "outputs": [],
   "source": [
    "%sql\n",
    "SELECT COUNT(1) from movie_gold.result_movie"
   ]
  },
  {
   "cell_type": "code",
   "execution_count": 0,
   "metadata": {
    "application/vnd.databricks.v1+cell": {
     "cellMetadata": {
      "byteLimit": 2048000,
      "implicitDf": true,
      "rowLimit": 10000
     },
     "inputWidgets": {},
     "nuid": "65103f7d-ebdf-4929-9011-93607a59b087",
     "showTitle": false,
     "tableResultSettingsMap": {},
     "title": ""
    }
   },
   "outputs": [],
   "source": [
    "%sql\n",
    "SELECT COUNT(1) from v_results_movie"
   ]
  },
  {
   "cell_type": "code",
   "execution_count": 0,
   "metadata": {
    "application/vnd.databricks.v1+cell": {
     "cellMetadata": {
      "byteLimit": 2048000,
      "rowLimit": 10000
     },
     "inputWidgets": {},
     "nuid": "da68c57b-08d7-4b74-9076-455b269d4576",
     "showTitle": false,
     "tableResultSettingsMap": {},
     "title": ""
    }
   },
   "outputs": [],
   "source": []
  }
 ],
 "metadata": {
  "application/vnd.databricks.v1+notebook": {
   "computePreferences": null,
   "dashboards": [],
   "environmentMetadata": {
    "base_environment": "",
    "environment_version": "2"
   },
   "inputWidgetPreferences": null,
   "language": "python",
   "notebookMetadata": {
    "mostRecentlyExecutedCommandWithImplicitDF": {
     "commandId": 5788714096990774,
     "dataframes": [
      "_sqldf"
     ]
    },
    "pythonIndentUnit": 4
   },
   "notebookName": "06.results_movie",
   "widgets": {
    "p_file_date": {
     "currentValue": "2024-12-16",
     "nuid": "20b3e56b-55f0-40c9-a4b8-b25b08866364",
     "typedWidgetInfo": {
      "autoCreated": false,
      "defaultValue": "2024-12-23",
      "label": null,
      "name": "p_file_date",
      "options": {
       "widgetDisplayType": "Text",
       "validationRegex": null
      },
      "parameterDataType": "String"
     },
     "widgetInfo": {
      "widgetType": "text",
      "defaultValue": "2024-12-23",
      "label": null,
      "name": "p_file_date",
      "options": {
       "widgetType": "text",
       "autoCreated": null,
       "validationRegex": null
      }
     }
    }
   }
  },
  "language_info": {
   "name": "python"
  }
 },
 "nbformat": 4,
 "nbformat_minor": 0
}
